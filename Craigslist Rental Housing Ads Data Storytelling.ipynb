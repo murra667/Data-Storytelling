{
 "cells": [
  {
   "cell_type": "code",
   "execution_count": 7,
   "metadata": {},
   "outputs": [],
   "source": [
    "%matplotlib inline\n",
    "import seaborn as sns\n",
    "import matplotlib.pyplot as plt\n",
    "import numpy as np\n",
    "import pandas as pd\n",
    "import geopandas as gpd\n",
    "from sklearn import cluster\n",
    "from sklearn.preprocessing import scale\n",
    "from uszipcode import ZipcodeSearchEngine\n",
    "from shapely.geometry import Point\n",
    "import geojson\n",
    "import json\n",
    "import pickle\n",
    "import folium\n",
    "from folium import plugins\n",
    "from mpl_toolkits.axes_grid1 import make_axes_locatable\n",
    "\n",
    "sns.set(style=\"whitegrid\")"
   ]
  },
  {
   "cell_type": "code",
   "execution_count": 8,
   "metadata": {},
   "outputs": [],
   "source": [
    "# read in cleaned rentals data as geodataframe\n",
    "data = pd.read_csv(\"cleaned_data_final.csv\")\n",
    "# convert latitude and longitude points into GIS data points\n",
    "geometry = [Point(xy) for xy in zip(data['geocode_lon'], data['geocode_lat'])]\n",
    "# set projections for geometry \n",
    "crs = {'init': 'epsg:4326'}\n",
    "locations = gpd.GeoDataFrame(data, crs=crs, geometry=geometry)\n",
    "locations = locations.to_crs({'init': 'epsg:4326'})"
   ]
  },
  {
   "cell_type": "code",
   "execution_count": 9,
   "metadata": {},
   "outputs": [],
   "source": [
    "# create geodataframe of zipcodes of Minnesota\n",
    "zipcodes = gpd.GeoDataFrame.from_file('zip_code_tabulation_areas.shp')\n",
    "# set projection of zipcodes\n",
    "zipcodes = zipcodes.to_crs({'init': 'epsg:4326'})\n",
    "# rename column of minnesota zipcodes file\n",
    "zipcodes = zipcodes.rename(columns={'GEOID10': 'zipcodes'})\n",
    "# perform spatial join between craigslist \n",
    "loc_zip_join = gpd.sjoin(locations, zipcodes, how=\"left\", op='within')\n",
    "# re-size dataframe to only include necessary columns\n",
    "final_df = loc_zip_join[['address', 'beds boolean', 'beds_baths', 'county', 'county_full', 'datetime', 'geocode_lat', 'geocode_lon', 'post id', 'price', 'price boolean', 'square feet', 'square feet boolean', 'title', 'url', 'County', 'City', 'bed assigned', 'no match', 'index match', 'outlier', 'zipcodes']]"
   ]
  },
  {
   "cell_type": "markdown",
   "metadata": {},
   "source": [
    "Fair market rents data for Twin Cities 2018 https://www.huduser.gov/portal/datasets/fmr/fmrs/FY2018_code/2018summary.odn"
   ]
  },
  {
   "cell_type": "code",
   "execution_count": 10,
   "metadata": {},
   "outputs": [],
   "source": [
    "# create dictionary of the fair market rents of the Twin Cities according to \n",
    "fmr_dict = {\"studio\" : 711, \"1\" : 864, \"2\" : 1089, \"3\" : 1547, \"4\" : 1812}\n",
    "# function to determine how many standard deviations over or under fmr rent is \n",
    "def over_fmr(df, col_name, std_dictionary, fmr_dictionary, std_list):\n",
    "    # define crunch_fmr to calculate if price is over threshold for given standard deviation\n",
    "    def crunch_fmr(beds, **kwargs):\n",
    "    # get standard deviation for given beds value, add it to fmr value, multiply it by number of standard deviations\n",
    "        return float(fmr_dictionary.get(beds)) + (float(std_dictionary.get(beds)) * float(standard_deviation))\n",
    "    # loop through list of std 1-3\n",
    "    for standard_deviation in std_list:\n",
    "        # new column for each standard deviation threshold\n",
    "        std_column_name = \"over fmr\" + str(standard_deviation)\n",
    "        df[std_column_name] = 0\n",
    "        # apply crunch_fmr\n",
    "        df.loc[(df[col_name] > df['beds_baths'].apply(crunch_fmr, fmr_dictionary=fmr_dictionary, std_dictionary = std_dictionary, threshold = standard_deviation)), std_column_name] = 1\n",
    "    return df  "
   ]
  },
  {
   "cell_type": "code",
   "execution_count": 11,
   "metadata": {},
   "outputs": [],
   "source": [
    "# pickle filenames\n",
    "filenames = ['sqft_std_dict.pickle', 'sqft_mean_dict.pickle', 'price_mean_dict.pickle', 'price_std_dict.pickle']\n",
    "# function to import pickle files as dictionaries with standard deviations and means for prices and square feet data\n",
    "def pickle_to_dict(filenames):\n",
    "    dictionaries_list = []\n",
    "    for file in filenames:\n",
    "        with open(file, 'rb') as handle:\n",
    "            unserialized_data = pickle.load(handle)\n",
    "            dictionaries_list.append(unserialized_data)\n",
    "    return dictionaries_list\n",
    "# run function to save dictionaries for use in a later script\n",
    "sqft_std_dict, sqft_mean_dict, price_mean_dict, price_std_dict = pickle_to_dict(filenames)\n"
   ]
  },
  {
   "cell_type": "code",
   "execution_count": 12,
   "metadata": {},
   "outputs": [
    {
     "name": "stderr",
     "output_type": "stream",
     "text": [
      "C:\\Users\\murra667\\Anaconda3\\lib\\site-packages\\ipykernel_launcher.py:13: SettingWithCopyWarning: \n",
      "A value is trying to be set on a copy of a slice from a DataFrame.\n",
      "Try using .loc[row_indexer,col_indexer] = value instead\n",
      "\n",
      "See the caveats in the documentation: http://pandas.pydata.org/pandas-docs/stable/indexing.html#indexing-view-versus-copy\n",
      "  del sys.path[0]\n",
      "C:\\Users\\murra667\\Anaconda3\\lib\\site-packages\\pandas\\core\\indexing.py:543: SettingWithCopyWarning: \n",
      "A value is trying to be set on a copy of a slice from a DataFrame.\n",
      "Try using .loc[row_indexer,col_indexer] = value instead\n",
      "\n",
      "See the caveats in the documentation: http://pandas.pydata.org/pandas-docs/stable/indexing.html#indexing-view-versus-copy\n",
      "  self.obj[item] = s\n"
     ]
    }
   ],
   "source": [
    "# list of values 1, 2, 3 for standard deviations\n",
    "std_list = [1, 2, 3]\n",
    "# run over_fmr function to create dataframe with booleans of rentals 1, 2, 3 standard deviations over fmr\n",
    "df_vals_over_fmr = over_fmr(final_df, 'price', price_std_dict, fmr_dict, std_list)\n",
    "# save dataframe with over_fmr attributes\n",
    "df_vals_over_fmr.to_csv('over_fmr_dataframe.csv')"
   ]
  },
  {
   "cell_type": "code",
   "execution_count": 13,
   "metadata": {
    "scrolled": true
   },
   "outputs": [
    {
     "name": "stderr",
     "output_type": "stream",
     "text": [
      "C:\\Users\\murra667\\Anaconda3\\lib\\site-packages\\pandas\\core\\indexing.py:543: SettingWithCopyWarning: \n",
      "A value is trying to be set on a copy of a slice from a DataFrame.\n",
      "Try using .loc[row_indexer,col_indexer] = value instead\n",
      "\n",
      "See the caveats in the documentation: http://pandas.pydata.org/pandas-docs/stable/indexing.html#indexing-view-versus-copy\n",
      "  self.obj[item] = s\n",
      "C:\\Users\\murra667\\Anaconda3\\lib\\site-packages\\ipykernel_launcher.py:6: SettingWithCopyWarning: \n",
      "A value is trying to be set on a copy of a slice from a DataFrame.\n",
      "Try using .loc[row_indexer,col_indexer] = value instead\n",
      "\n",
      "See the caveats in the documentation: http://pandas.pydata.org/pandas-docs/stable/indexing.html#indexing-view-versus-copy\n",
      "  \n"
     ]
    },
    {
     "data": {
      "text/html": [
       "<div>\n",
       "<style scoped>\n",
       "    .dataframe tbody tr th:only-of-type {\n",
       "        vertical-align: middle;\n",
       "    }\n",
       "\n",
       "    .dataframe tbody tr th {\n",
       "        vertical-align: top;\n",
       "    }\n",
       "\n",
       "    .dataframe thead th {\n",
       "        text-align: right;\n",
       "    }\n",
       "</style>\n",
       "<table border=\"1\" class=\"dataframe\">\n",
       "  <thead>\n",
       "    <tr style=\"text-align: right;\">\n",
       "      <th></th>\n",
       "      <th>zipcodes</th>\n",
       "      <th>craigslist beds per zip</th>\n",
       "    </tr>\n",
       "  </thead>\n",
       "  <tbody>\n",
       "    <tr>\n",
       "      <th>0</th>\n",
       "      <td>55101</td>\n",
       "      <td>725.0</td>\n",
       "    </tr>\n",
       "    <tr>\n",
       "      <th>1</th>\n",
       "      <td>55102</td>\n",
       "      <td>179.0</td>\n",
       "    </tr>\n",
       "    <tr>\n",
       "      <th>2</th>\n",
       "      <td>55103</td>\n",
       "      <td>73.0</td>\n",
       "    </tr>\n",
       "    <tr>\n",
       "      <th>3</th>\n",
       "      <td>55104</td>\n",
       "      <td>348.0</td>\n",
       "    </tr>\n",
       "    <tr>\n",
       "      <th>4</th>\n",
       "      <td>55105</td>\n",
       "      <td>131.0</td>\n",
       "    </tr>\n",
       "    <tr>\n",
       "      <th>5</th>\n",
       "      <td>55106</td>\n",
       "      <td>224.0</td>\n",
       "    </tr>\n",
       "    <tr>\n",
       "      <th>6</th>\n",
       "      <td>55107</td>\n",
       "      <td>66.0</td>\n",
       "    </tr>\n",
       "    <tr>\n",
       "      <th>7</th>\n",
       "      <td>55108</td>\n",
       "      <td>523.0</td>\n",
       "    </tr>\n",
       "    <tr>\n",
       "      <th>8</th>\n",
       "      <td>55109</td>\n",
       "      <td>73.0</td>\n",
       "    </tr>\n",
       "    <tr>\n",
       "      <th>9</th>\n",
       "      <td>55110</td>\n",
       "      <td>96.0</td>\n",
       "    </tr>\n",
       "    <tr>\n",
       "      <th>10</th>\n",
       "      <td>55111</td>\n",
       "      <td>3.0</td>\n",
       "    </tr>\n",
       "    <tr>\n",
       "      <th>11</th>\n",
       "      <td>55112</td>\n",
       "      <td>280.0</td>\n",
       "    </tr>\n",
       "    <tr>\n",
       "      <th>12</th>\n",
       "      <td>55113</td>\n",
       "      <td>299.0</td>\n",
       "    </tr>\n",
       "    <tr>\n",
       "      <th>13</th>\n",
       "      <td>55114</td>\n",
       "      <td>849.0</td>\n",
       "    </tr>\n",
       "    <tr>\n",
       "      <th>14</th>\n",
       "      <td>55116</td>\n",
       "      <td>167.0</td>\n",
       "    </tr>\n",
       "    <tr>\n",
       "      <th>15</th>\n",
       "      <td>55117</td>\n",
       "      <td>135.0</td>\n",
       "    </tr>\n",
       "    <tr>\n",
       "      <th>16</th>\n",
       "      <td>55119</td>\n",
       "      <td>256.0</td>\n",
       "    </tr>\n",
       "    <tr>\n",
       "      <th>17</th>\n",
       "      <td>55126</td>\n",
       "      <td>210.0</td>\n",
       "    </tr>\n",
       "    <tr>\n",
       "      <th>18</th>\n",
       "      <td>55127</td>\n",
       "      <td>67.0</td>\n",
       "    </tr>\n",
       "    <tr>\n",
       "      <th>19</th>\n",
       "      <td>55130</td>\n",
       "      <td>41.0</td>\n",
       "    </tr>\n",
       "    <tr>\n",
       "      <th>20</th>\n",
       "      <td>55305</td>\n",
       "      <td>716.0</td>\n",
       "    </tr>\n",
       "    <tr>\n",
       "      <th>21</th>\n",
       "      <td>55311</td>\n",
       "      <td>75.0</td>\n",
       "    </tr>\n",
       "    <tr>\n",
       "      <th>22</th>\n",
       "      <td>55316</td>\n",
       "      <td>80.0</td>\n",
       "    </tr>\n",
       "    <tr>\n",
       "      <th>23</th>\n",
       "      <td>55331</td>\n",
       "      <td>74.0</td>\n",
       "    </tr>\n",
       "    <tr>\n",
       "      <th>24</th>\n",
       "      <td>55340</td>\n",
       "      <td>6.0</td>\n",
       "    </tr>\n",
       "    <tr>\n",
       "      <th>25</th>\n",
       "      <td>55343</td>\n",
       "      <td>769.0</td>\n",
       "    </tr>\n",
       "    <tr>\n",
       "      <th>26</th>\n",
       "      <td>55344</td>\n",
       "      <td>1463.0</td>\n",
       "    </tr>\n",
       "    <tr>\n",
       "      <th>27</th>\n",
       "      <td>55345</td>\n",
       "      <td>215.0</td>\n",
       "    </tr>\n",
       "    <tr>\n",
       "      <th>28</th>\n",
       "      <td>55346</td>\n",
       "      <td>230.0</td>\n",
       "    </tr>\n",
       "    <tr>\n",
       "      <th>29</th>\n",
       "      <td>55347</td>\n",
       "      <td>138.0</td>\n",
       "    </tr>\n",
       "    <tr>\n",
       "      <th>...</th>\n",
       "      <td>...</td>\n",
       "      <td>...</td>\n",
       "    </tr>\n",
       "    <tr>\n",
       "      <th>54</th>\n",
       "      <td>55416</td>\n",
       "      <td>1900.0</td>\n",
       "    </tr>\n",
       "    <tr>\n",
       "      <th>55</th>\n",
       "      <td>55417</td>\n",
       "      <td>89.0</td>\n",
       "    </tr>\n",
       "    <tr>\n",
       "      <th>56</th>\n",
       "      <td>55418</td>\n",
       "      <td>194.0</td>\n",
       "    </tr>\n",
       "    <tr>\n",
       "      <th>57</th>\n",
       "      <td>55419</td>\n",
       "      <td>247.0</td>\n",
       "    </tr>\n",
       "    <tr>\n",
       "      <th>58</th>\n",
       "      <td>55420</td>\n",
       "      <td>328.0</td>\n",
       "    </tr>\n",
       "    <tr>\n",
       "      <th>59</th>\n",
       "      <td>55421</td>\n",
       "      <td>304.0</td>\n",
       "    </tr>\n",
       "    <tr>\n",
       "      <th>60</th>\n",
       "      <td>55422</td>\n",
       "      <td>223.0</td>\n",
       "    </tr>\n",
       "    <tr>\n",
       "      <th>61</th>\n",
       "      <td>55423</td>\n",
       "      <td>282.0</td>\n",
       "    </tr>\n",
       "    <tr>\n",
       "      <th>62</th>\n",
       "      <td>55424</td>\n",
       "      <td>19.0</td>\n",
       "    </tr>\n",
       "    <tr>\n",
       "      <th>63</th>\n",
       "      <td>55425</td>\n",
       "      <td>30.0</td>\n",
       "    </tr>\n",
       "    <tr>\n",
       "      <th>64</th>\n",
       "      <td>55426</td>\n",
       "      <td>589.0</td>\n",
       "    </tr>\n",
       "    <tr>\n",
       "      <th>65</th>\n",
       "      <td>55427</td>\n",
       "      <td>133.0</td>\n",
       "    </tr>\n",
       "    <tr>\n",
       "      <th>66</th>\n",
       "      <td>55428</td>\n",
       "      <td>92.0</td>\n",
       "    </tr>\n",
       "    <tr>\n",
       "      <th>67</th>\n",
       "      <td>55429</td>\n",
       "      <td>1006.0</td>\n",
       "    </tr>\n",
       "    <tr>\n",
       "      <th>68</th>\n",
       "      <td>55430</td>\n",
       "      <td>52.0</td>\n",
       "    </tr>\n",
       "    <tr>\n",
       "      <th>69</th>\n",
       "      <td>55431</td>\n",
       "      <td>453.0</td>\n",
       "    </tr>\n",
       "    <tr>\n",
       "      <th>70</th>\n",
       "      <td>55435</td>\n",
       "      <td>386.0</td>\n",
       "    </tr>\n",
       "    <tr>\n",
       "      <th>71</th>\n",
       "      <td>55436</td>\n",
       "      <td>148.0</td>\n",
       "    </tr>\n",
       "    <tr>\n",
       "      <th>72</th>\n",
       "      <td>55437</td>\n",
       "      <td>215.0</td>\n",
       "    </tr>\n",
       "    <tr>\n",
       "      <th>73</th>\n",
       "      <td>55438</td>\n",
       "      <td>826.0</td>\n",
       "    </tr>\n",
       "    <tr>\n",
       "      <th>74</th>\n",
       "      <td>55439</td>\n",
       "      <td>14.0</td>\n",
       "    </tr>\n",
       "    <tr>\n",
       "      <th>75</th>\n",
       "      <td>55441</td>\n",
       "      <td>250.0</td>\n",
       "    </tr>\n",
       "    <tr>\n",
       "      <th>76</th>\n",
       "      <td>55442</td>\n",
       "      <td>150.0</td>\n",
       "    </tr>\n",
       "    <tr>\n",
       "      <th>77</th>\n",
       "      <td>55443</td>\n",
       "      <td>218.0</td>\n",
       "    </tr>\n",
       "    <tr>\n",
       "      <th>78</th>\n",
       "      <td>55444</td>\n",
       "      <td>15.0</td>\n",
       "    </tr>\n",
       "    <tr>\n",
       "      <th>79</th>\n",
       "      <td>55445</td>\n",
       "      <td>22.0</td>\n",
       "    </tr>\n",
       "    <tr>\n",
       "      <th>80</th>\n",
       "      <td>55446</td>\n",
       "      <td>170.0</td>\n",
       "    </tr>\n",
       "    <tr>\n",
       "      <th>81</th>\n",
       "      <td>55447</td>\n",
       "      <td>640.0</td>\n",
       "    </tr>\n",
       "    <tr>\n",
       "      <th>82</th>\n",
       "      <td>55454</td>\n",
       "      <td>91.0</td>\n",
       "    </tr>\n",
       "    <tr>\n",
       "      <th>83</th>\n",
       "      <td>55455</td>\n",
       "      <td>3.0</td>\n",
       "    </tr>\n",
       "  </tbody>\n",
       "</table>\n",
       "<p>84 rows × 2 columns</p>\n",
       "</div>"
      ],
      "text/plain": [
       "   zipcodes  craigslist beds per zip\n",
       "0     55101                    725.0\n",
       "1     55102                    179.0\n",
       "2     55103                     73.0\n",
       "3     55104                    348.0\n",
       "4     55105                    131.0\n",
       "5     55106                    224.0\n",
       "6     55107                     66.0\n",
       "7     55108                    523.0\n",
       "8     55109                     73.0\n",
       "9     55110                     96.0\n",
       "10    55111                      3.0\n",
       "11    55112                    280.0\n",
       "12    55113                    299.0\n",
       "13    55114                    849.0\n",
       "14    55116                    167.0\n",
       "15    55117                    135.0\n",
       "16    55119                    256.0\n",
       "17    55126                    210.0\n",
       "18    55127                     67.0\n",
       "19    55130                     41.0\n",
       "20    55305                    716.0\n",
       "21    55311                     75.0\n",
       "22    55316                     80.0\n",
       "23    55331                     74.0\n",
       "24    55340                      6.0\n",
       "25    55343                    769.0\n",
       "26    55344                   1463.0\n",
       "27    55345                    215.0\n",
       "28    55346                    230.0\n",
       "29    55347                    138.0\n",
       "..      ...                      ...\n",
       "54    55416                   1900.0\n",
       "55    55417                     89.0\n",
       "56    55418                    194.0\n",
       "57    55419                    247.0\n",
       "58    55420                    328.0\n",
       "59    55421                    304.0\n",
       "60    55422                    223.0\n",
       "61    55423                    282.0\n",
       "62    55424                     19.0\n",
       "63    55425                     30.0\n",
       "64    55426                    589.0\n",
       "65    55427                    133.0\n",
       "66    55428                     92.0\n",
       "67    55429                   1006.0\n",
       "68    55430                     52.0\n",
       "69    55431                    453.0\n",
       "70    55435                    386.0\n",
       "71    55436                    148.0\n",
       "72    55437                    215.0\n",
       "73    55438                    826.0\n",
       "74    55439                     14.0\n",
       "75    55441                    250.0\n",
       "76    55442                    150.0\n",
       "77    55443                    218.0\n",
       "78    55444                     15.0\n",
       "79    55445                     22.0\n",
       "80    55446                    170.0\n",
       "81    55447                    640.0\n",
       "82    55454                     91.0\n",
       "83    55455                      3.0\n",
       "\n",
       "[84 rows x 2 columns]"
      ]
     },
     "execution_count": 13,
     "metadata": {},
     "output_type": "execute_result"
    }
   ],
   "source": [
    "# copy dataframe as df_vals_over_fmr will be modified\n",
    "final_zipcodes = df_vals_over_fmr\n",
    "#convert studio to one in order to sum number of craigslist units per zip code\n",
    "df_vals_over_fmr.loc[df_vals_over_fmr['beds_baths'] == \"studio\", \"beds_baths\"] = \"1\"\n",
    "# convert beds_baths to float\n",
    "df_vals_over_fmr['beds_baths'] = df_vals_over_fmr['beds_baths'].astype(float)\n",
    "# sum number of beds baths in zipcodes\n",
    "beds_per_zip_craigslist = df_vals_over_fmr.groupby('zipcodes')['beds_baths'].sum()\n",
    "# reset index of dataframe and rename columns\n",
    "beds_per_zip_craigslist = beds_per_zip_craigslist.reset_index()\n",
    "beds_per_zip_craigslist = beds_per_zip_craigslist.rename(columns={'beds_baths': 'craigslist beds per zip'})\n",
    "beds_per_zip_craigslist\n"
   ]
  },
  {
   "cell_type": "markdown",
   "metadata": {},
   "source": [
    "Documentation For uszipcode library https://pythonhosted.org/uszipcode/"
   ]
  },
  {
   "cell_type": "code",
   "execution_count": 14,
   "metadata": {},
   "outputs": [],
   "source": [
    "# function to perform operations on dataframes \n",
    "# for 1,2,3 standard deviations over fmr\n",
    "def munge_over_fmr(dfs, df_beds_sum):\n",
    "    dataframes = []\n",
    "    for dataframe in dfs:\n",
    "        # sum the number of units over fmr\n",
    "        over_fmr_sum = dataframe.groupby('zipcodes')['beds_baths'].sum()\n",
    "        # reindex dataframe\n",
    "        over_fmr_craigslist = over_fmr_sum.reset_index()\n",
    "        over_fmr_craigslist = over_fmr_craigslist.rename(columns={'beds_baths': 'craigslist beds per zip over fmr'})\n",
    "        # merge dataframe sums of craigslist per zipcode and sums of overfmr listings per zipcode\n",
    "        merged = pd.concat(objs = [df_beds_sum.set_index('zipcodes'), over_fmr_craigslist.set_index('zipcodes')], axis = 1)\n",
    "        # create zipcodes column\n",
    "        merged['zipcodes'] = merged.index\n",
    "        # create columns of new information from US Census from ZipcodeSearchEngine\n",
    "        for index, row in merged.iterrows():\n",
    "            # call zipcode search engine\n",
    "            search = ZipcodeSearchEngine()\n",
    "            # input each zipcode from dataframe into search engine\n",
    "            zipcode=search.by_zipcode(row['zipcodes'])\n",
    "            # get total number of units per zipcode according to census\n",
    "            units_tot = zipcode.HouseOfUnits\n",
    "            # get wealth rating of zipcode\n",
    "            wealth = zipcode.Wealthy\n",
    "            # create columns of total units and wealth in dataframe\n",
    "            merged.loc[index, 'total units'] = units_tot\n",
    "            merged.loc[index, 'wealth'] = wealth\n",
    "        # reindex dataframe\n",
    "        index_list = list(range(len(merged.index)))\n",
    "        # make index series a column in dataframe\n",
    "        merged['index'] = index_list\n",
    "        # set index column as index of dataframe\n",
    "        merged = merged.set_index(['index'])\n",
    "        # fill na\n",
    "        merged = merged.fillna(0)\n",
    "        # coerce columns\n",
    "        merged['total units'] = pd.to_numeric(merged['total units'], errors = \"coerce\")\n",
    "        merged['craigslist beds per zip'] = pd.to_numeric(merged['craigslist beds per zip'], errors = \"coerce\")\n",
    "        merged['craigslist beds per zip over fmr'] = pd.to_numeric(merged['craigslist beds per zip over fmr'], errors = \"coerce\")\n",
    "        merged['wealth'] = pd.to_numeric(merged['wealth'].astype(float), errors = \"coerce\")\n",
    "        # calculate percent of craigslist listings per total units in zipcode\n",
    "        merged['craigslist pct per total units'] = 0\n",
    "        # cast column as float\n",
    "        merged['craigslist pct per total units'] = merged['craigslist pct per total units'].astype(float)\n",
    "        # calculate column craigslist pct per total units which tries to estimate how many units per zipcode\n",
    "        # are available on craigslist\n",
    "        merged['craigslist pct per total units'] = merged['craigslist beds per zip'].div(merged['total units'])\n",
    "        # percent of craigslist listings x standard deviations over fmr \n",
    "        merged['craigslist pct over fmr'] = 0 \n",
    "        # cast as float\n",
    "        merged['craigslist pct over fmr'] = merged['craigslist pct over fmr'].astype(float)\n",
    "        # percent of craigslist listings per craigslist total in zip code\n",
    "        merged['craigslist pct over fmr'] = merged['craigslist beds per zip over fmr'].div(merged['craigslist beds per zip'])\n",
    "        # attempt to calculate measure of wealth and unaffordability\n",
    "        merged['normalized measure of over fmr'] = merged['craigslist pct over fmr'] * merged['craigslist pct per total units']\n",
    "        # calculate percent of craigslist data per zipcode\n",
    "        merged['pct of listings by craigslist population'] = merged['craigslist beds per zip'].div(19240)\n",
    "        # calculate the mean weatlh number\n",
    "        wealth_median = np.median(merged['wealth'])\n",
    "        # create boolean of above and below average wealth \n",
    "        merged['above median'] = False\n",
    "        merged.loc[merged['wealth'] > wealth_median, 'above median'] = True\n",
    "        dataframes.append(merged)\n",
    "    return dataframes"
   ]
  },
  {
   "cell_type": "code",
   "execution_count": 15,
   "metadata": {},
   "outputs": [
    {
     "name": "stderr",
     "output_type": "stream",
     "text": [
      "C:\\Users\\murra667\\Anaconda3\\lib\\site-packages\\ipykernel_launcher.py:12: FutureWarning: Sorting because non-concatenation axis is not aligned. A future version\n",
      "of pandas will change to not sort by default.\n",
      "\n",
      "To accept the future behavior, pass 'sort=True'.\n",
      "\n",
      "To retain the current behavior and silence the warning, pass sort=False\n",
      "\n",
      "  if sys.path[0] == '':\n"
     ]
    }
   ],
   "source": [
    "# sum of over fmr units per zipcode house of units\n",
    "over_fmr_1 = df_vals_over_fmr.loc[df_vals_over_fmr['over fmr1'] == 1]\n",
    "over_fmr_2 = df_vals_over_fmr.loc[df_vals_over_fmr['over fmr2'] == 1]\n",
    "over_fmr_3 = df_vals_over_fmr.loc[df_vals_over_fmr['over fmr3'] == 1]\n",
    "# create list of dataframes with over fmr rows\n",
    "dfs = [over_fmr_1, over_fmr_2, over_fmr_3]\n",
    "# munge dataframes \n",
    "munged1, munged2, munged3 = munge_over_fmr(dfs, beds_per_zip_craigslist)\n",
    "munged_list = [munged1, munged2, munged3]\n",
    "# save munged dataframes to csvs\n",
    "for df_munged in munged_list:\n",
    "    count = 1\n",
    "    df_munged.to_csv('craigslist_munged' + str(count) + '.csv')\n",
    "    count += 1"
   ]
  },
  {
   "cell_type": "code",
   "execution_count": 16,
   "metadata": {},
   "outputs": [],
   "source": [
    "zipcodes = gpd.GeoDataFrame.from_file('zip_code_tabulation_areas.shp')\n",
    "# set projection of zipcodes\n",
    "zipcodes = zipcodes.to_crs({'init': 'epsg:4326'})\n",
    "# rename column of minnesota zipcodes file\n",
    "zipcodes = zipcodes.rename(columns={'GEOID10': 'zipcodes'})"
   ]
  },
  {
   "cell_type": "code",
   "execution_count": 17,
   "metadata": {},
   "outputs": [],
   "source": [
    "# subset minnesota zipcodes\n",
    "# so as to match those containing craigslist rental ads\n",
    "# in ramsey and hennepin county\n",
    "# merge zipcodes spatial data with munged dataframe\n",
    "choropleth_input = zipcodes.merge(munged1, on='zipcodes')\n",
    "# create json\n",
    "choropleth_json = choropleth_input.to_json()\n",
    "datastore = json.loads(choropleth_json)\n"
   ]
  },
  {
   "cell_type": "code",
   "execution_count": 27,
   "metadata": {},
   "outputs": [],
   "source": [
    "# define function to map each over fmr dataframe\n",
    "def map_fmrs(json, dataframes):\n",
    "    count = 1\n",
    "    column = \"over_fmr\"\n",
    "    for dataframe in dataframes:\n",
    "        # create map object\n",
    "        fmr_map = folium.Map(location=[44.986656, -93.258133], zoom_start=12)\n",
    "        # create choropleth map\n",
    "        fmr_map.choropleth(geo_data = json, data = dataframe,\n",
    "                 columns=['zipcodes', 'craigslist pct over fmr'],\n",
    "                 key_on='feature.properties.zipcodes',\n",
    "                 legend_name = 'Percent of Craigslist Listings ' + str(count) + ' Standard Deviation Over FMR By Zipcode', fill_opacity=.8, line_opacity=.9,\n",
    "                 fill_color='OrRd')\n",
    "        # save maps\n",
    "        fmr_map.save('overfmr' + str(count) + '.html')\n",
    "        count += 1"
   ]
  },
  {
   "cell_type": "code",
   "execution_count": 28,
   "metadata": {},
   "outputs": [],
   "source": [
    "# list of munged datasets to input into function\n",
    "munged_dataframes = [munged1, munged2, munged3]\n",
    "map_fmrs(datastore, munged_dataframes)\n",
    "\n"
   ]
  },
  {
   "cell_type": "code",
   "execution_count": 20,
   "metadata": {},
   "outputs": [
    {
     "name": "stderr",
     "output_type": "stream",
     "text": [
      "C:\\Users\\murra667\\Anaconda3\\lib\\site-packages\\ipykernel_launcher.py:4: FutureWarning: Method .as_matrix will be removed in a future version. Use .values instead.\n",
      "  after removing the cwd from sys.path.\n"
     ]
    }
   ],
   "source": [
    "# create map\n",
    "m = folium.Map(location=[44.986656, -93.258133], zoom_start=12)\n",
    "# convert to (n, 2) nd-array format for heatmap\n",
    "heat_points = final_df[['geocode_lat', 'geocode_lon']].as_matrix()\n",
    "# convert heatpoints to list\n",
    "heat_points = heat_points.tolist()\n",
    "# plot heatmap\n",
    "m.add_child(plugins.HeatMap(heat_points, radius=10))\n",
    "m.save('craigslist_listings.html')"
   ]
  },
  {
   "cell_type": "code",
   "execution_count": 21,
   "metadata": {},
   "outputs": [],
   "source": [
    "# function to \n",
    "def quartiles_heatmap(quartiles):\n",
    "    count = 1\n",
    "    for q in quartiles:\n",
    "        # create map\n",
    "        m = folium.Map(location=[44.986656, -93.258133], zoom_start=12)\n",
    "        # convert to (n, 2) nd-array format for heatmap\n",
    "        heat_points = q[['geocode_lat', 'geocode_lon']].as_matrix()\n",
    "        # convert heatpoints to list\n",
    "        heat_points = heat_points.tolist()\n",
    "        # plot heatmap\n",
    "        m.add_child(plugins.HeatMap(heat_points, radius=10))\n",
    "        m.save('q' + str(count) + '.html')\n",
    "        count += 1"
   ]
  },
  {
   "cell_type": "code",
   "execution_count": 22,
   "metadata": {},
   "outputs": [
    {
     "name": "stderr",
     "output_type": "stream",
     "text": [
      "C:\\Users\\murra667\\Anaconda3\\lib\\site-packages\\ipykernel_launcher.py:8: FutureWarning: Method .as_matrix will be removed in a future version. Use .values instead.\n",
      "  \n"
     ]
    }
   ],
   "source": [
    "# create quartiles of price data\n",
    "twentyfifth, fiftieth, seventyfifth, hundred = np.percentile(df_vals_over_fmr['price'], [25, 50, 75, 100])\n",
    "# create subsets of each quartile\n",
    "q1 = df_vals_over_fmr.loc[(df_vals_over_fmr['price'] <= twentyfifth)]\n",
    "q2 = df_vals_over_fmr.loc[(df_vals_over_fmr['price'] > twentyfifth) & (df_vals_over_fmr['price'] <= fiftieth)]\n",
    "q3 = df_vals_over_fmr.loc[(df_vals_over_fmr['price'] > fiftieth) & (df_vals_over_fmr['price'] <= seventyfifth)]\n",
    "q4 = df_vals_over_fmr.loc[(df_vals_over_fmr['price'] > seventyfifth) & (df_vals_over_fmr['price'] <= hundred)]\n",
    "# set quartiles list\n",
    "quartiles = [q1, q2, q3, q4]\n",
    "# call create_heatmap\n",
    "quartiles_heatmap(quartiles)"
   ]
  },
  {
   "cell_type": "markdown",
   "metadata": {},
   "source": [
    "## Data Storytelling"
   ]
  },
  {
   "cell_type": "markdown",
   "metadata": {},
   "source": [
    "## Questions Asked\n",
    "\n",
    "1. Where are craigslist housing rental ads distributed throughout Hennepin and Ramsey Counties?\n",
    "2. Using craigslist housing rental ads as a proxy, and HUD Fair Market Rents as a threshold for affordability, what are the spatial patterns of affordability in Hennepin and Ramsey Counties?\n",
    "3. What is the relationship between square feet and price?\n",
    "4. How is the data distributed across price variables?"
   ]
  },
  {
   "cell_type": "markdown",
   "metadata": {},
   "source": [
    "## Trends Investigated \n",
    "1. Density of craigslist housing rental ads in Hennepin and Ramsey Counties\n",
    "2. Spatial clustering of affordable housing by zipcode in Hennepin and Ramsey Counties\n",
    "3. Correlation between Square feet and Price variables\n",
    "4. The spread of the price data"
   ]
  },
  {
   "cell_type": "markdown",
   "metadata": {},
   "source": [
    "## Plot the Prices Distribution"
   ]
  },
  {
   "cell_type": "code",
   "execution_count": 23,
   "metadata": {},
   "outputs": [
    {
     "data": {
      "image/png": "[encoded data removed]",
      "text/plain": [
       "<Figure size 432x288 with 1 Axes>"
      ]
     },
     "metadata": {},
     "output_type": "display_data"
    }
   ],
   "source": [
    "data = pd.read_csv(\"cleaned_data_final.csv\")\n",
    "# plot prices to see what the distribution looks like\n",
    "_ = plt.hist(data['price'], bins = 100, histtype = 'step')\n",
    "plt.xlabel('Price', fontsize=12)\n",
    "plt.ylabel('Count', fontsize=12)\n",
    "plt.title('Price Distribution', fontsize=14)\n",
    "plt.show()"
   ]
  },
  {
   "cell_type": "markdown",
   "metadata": {},
   "source": [
    "The price distribution for all listings is skewed right, and the center hovers around 1500-1700 dollars per month. This is irrespective of the Studio, 1, 2, 3 or 4 bedroom groupings. The maxmimum price for a listing is slightly above 4000 per month. "
   ]
  },
  {
   "cell_type": "markdown",
   "metadata": {},
   "source": [
    "## Analyze The Price Distribution Across Bed Groupings"
   ]
  },
  {
   "cell_type": "code",
   "execution_count": 24,
   "metadata": {},
   "outputs": [
    {
     "name": "stderr",
     "output_type": "stream",
     "text": [
      "C:\\Users\\murra667\\Anaconda3\\lib\\site-packages\\matplotlib\\axes\\_axes.py:6462: UserWarning: The 'normed' kwarg is deprecated, and has been replaced by the 'density' kwarg.\n",
      "  warnings.warn(\"The 'normed' kwarg is deprecated, and has been \"\n"
     ]
    },
    {
     "data": {
      "image/png": "[encoded data removed]",
      "text/plain": [
       "<Figure size 432x288 with 1 Axes>"
      ]
     },
     "metadata": {},
     "output_type": "display_data"
    }
   ],
   "source": [
    "# import pickle file containing bed values that were unassigned\n",
    "unassigned_beds = pd.read_pickle('unassigned_beds.pickle', compression = \"infer\")\n",
    "# limit to price column\n",
    "unassigned_beds['price'] = unassigned_beds['price'].astype(float)\n",
    "# drop clear outliers from unassigned beds\n",
    "unassigned_beds = unassigned_beds.loc[unassigned_beds['price'] < 10000] \n",
    "unassigned_beds = unassigned_beds['price']\n",
    "# visualize distribution of unassigned beds to look for patterns\n",
    "_ = plt.hist(unassigned_beds, bins = 100, normed=True, histtype = 'step')\n",
    "plt.xlabel(\"Price\")\n",
    "plt.ylabel(\"Bins\")\n",
    "plt.title(\"Distribution of Price For Listings Without A Bedrooms Attribute\")\n",
    "plt.show()"
   ]
  },
  {
   "cell_type": "markdown",
   "metadata": {},
   "source": [
    "Rental data obtained through craigslist presented the challenge of discerning user inputs in the number of bedrooms variable, or the lack of thereof, and what bedroom classification was truly meant for the ad. \n",
    "\n",
    "Above is the distribution of prices for listings where no bedroom type was specified anywhere in the listing by the user. Potential reasons for not specifying a bedrooms attribute could have been 1) the listing was for a physical bedroom space available in a multi-bedroom unit, or a studio apartment, both conditions that the user is not able to specify with the values allowed by craigslist 2) the user simply did not specify bedrooms unrelated to the formerly stated possibilities. The distribution is normal, suggesting that there was no one bed grouping that is overrepresented in not containing a bed attribute specified by the user somewhere in the listing. This seems to outrule possibility 1), suggesting possibility 2) may be behind the unlabeled listings"
   ]
  },
  {
   "cell_type": "code",
   "execution_count": 25,
   "metadata": {},
   "outputs": [
    {
     "name": "stderr",
     "output_type": "stream",
     "text": [
      "C:\\Users\\murra667\\Anaconda3\\lib\\site-packages\\matplotlib\\axes\\_axes.py:6462: UserWarning: The 'normed' kwarg is deprecated, and has been replaced by the 'density' kwarg.\n",
      "  warnings.warn(\"The 'normed' kwarg is deprecated, and has been \"\n"
     ]
    },
    {
     "data": {
      "image/png": "[encoded data removed]",
      "text/plain": [
       "<Figure size 432x288 with 1 Axes>"
      ]
     },
     "metadata": {},
     "output_type": "display_data"
    }
   ],
   "source": [
    "# import dataframe containing column on properties over fair market rent\n",
    "over_fmr = pd.read_csv(\"over_fmr_dataframe.csv\")\n",
    "# subset beds that were assigned one to take a closer look\n",
    "one_bed = over_fmr.loc[over_fmr['beds_baths'] == \"1\"]\n",
    "#plot_df = updated_df_clean.loc[updated_df_clean['no match'] == True]\n",
    "#print (len(plot_df))\n",
    "_ = plt.hist(one_bed['price'], bins = 100, normed=True, histtype = 'step')\n",
    "plt.xlabel(\"Price\")\n",
    "plt.ylabel(\"Bins\")\n",
    "plt.title(\"Distribution of Listings With Bedrooms Attribute 1\")\n",
    "plt.show()"
   ]
  },
  {
   "cell_type": "markdown",
   "metadata": {},
   "source": [
    "The distribution for listings with a bedrooms attribute of \"1\" was plotted to examine if there is more than one cluster of price values among this category of listings. In listings where the user specified \"1\" as the bedroom attribute, the listing may have been for an actual 1 bedroom apartment, one single bedroom in a multi-bedroom living situation, or a studio apartment - since there is no option for users to classify the latter two on craigslist. The distribution does have some characteristics of a bi-modal distribution. Assuming that 1 bedroom rentals are more expensive than studio bedrooms, it is possible that the lower values represent listings of studio apartements, and the higher values, 1 bedroom apartements. A test of normality is performed on this distribution in Inferential Statistics. "
   ]
  },
  {
   "cell_type": "markdown",
   "metadata": {},
   "source": [
    "\n",
    "## Maps\n",
    "\n",
    "As can be seen in __[A Heatmap of Craigslist Housing Rental Ads in the Twin-Cities](https://raw.githubusercontent.com/murra667/Data-Storytelling/master/craigslist_listings.html)__, the density of listings tends to cluster in Minneapolis and St. Paul, specifically in the central business districts of these cities. Listings are also prominent in the Uptown, UM-TC campus neighborhoods of Minneapolis. In addition, there appear to be addresses throughout Hennepin and Ramsey County that generate their own heat spot, meaning that there are multiple listings in the dataset at this precise location. This could indicate that 1) There are duplicate listings in the dataset that had different post ids (likely re-posted on a different day or at a different time) 2) Specific properties in the dataset use craigslist for most of their advertising and so have multiple ads at a time from one building or property on craigslist. \n",
    "\n",
    "\n",
    "As can be seen in __[Ads 1 Standard Deviation Above the Twin-Cities Fair Market Rent per Zipcode](https://github.com/murra667/Data-Storytelling/raw/master/overfmr1.html)__, zipcodes in which 80-100% of ads are one standard deviation over the fair market rent are located in the central business districts of Minneapolis an St. Paul. The zipcode encompassing most of the City of Columbia Heights in Henenpin County is also in this range of unaffordability. Other Cities and/or areas of Minneapolis that seem unaffordable are the City of St. Louis Park, Edina and Uptown/ Southwest Minneapolis. Overall, Ramsey County seems to have less zipcodes that have high percentages of listings over the fair market rent Future analysis may be done with the wealth attribute of these zipcodes.\n",
    "\n",
    "In the __[Ads 2 Standard Deviation Above the Twin-Cities Fair Market Rent per Zipcode](https://github.com/murra667/Data-Storytelling/raw/master/overfmr2.html)__ map, the central business district of Minneapolis continues to have the highest percentage of unaffordable craigslist listings, with 70-80% two standard deviations over the Twin-Cities Fair Market Rent. Areas such as the Uptown neighborhood and City of St. Louis Park also have high percentages. Interestingly, Columbia Heights, where 80-100% of listings in this zipcode are at least one standard deviation over the fair market rent, has nearly disappeared from the map, as have many zipcodes in St. Paul and Ramsey County. \n",
    "\n",
    "In the __[Ads 3 Standard Deviation Above the Twin-Cities Fair Market Rent per Zipcode](https://github.com/murra667/Data-Storytelling/raw/master/overfmr3.html)__ map, the downtown Minneapolis continues to have the highest percentage of listings over the fair market rent, somewhere between 37-45%. Specifically, this is the zipcode that encompasses Downtown East, an area that has undergone significant development in the past 3 years. Adjacent to here, in the zipcode containing the North Loop neighborhood, the second highest percentage, 15-22% of listings are more than 3 standard deviations about the Fair Market Rent.\n"
   ]
  },
  {
   "cell_type": "code",
   "execution_count": 26,
   "metadata": {
    "scrolled": true
   },
   "outputs": [
    {
     "data": {
      "image/png": "[encoded data removed]",
      "text/plain": [
       "<Figure size 576x360 with 1 Axes>"
      ]
     },
     "metadata": {},
     "output_type": "display_data"
    }
   ],
   "source": [
    "# generate a scatterplot for price vs square feet \n",
    "# and create lists as inputs\n",
    "x = [a for a in data['square feet']]\n",
    "y = list(data['price'])\n",
    "# generate plot object\n",
    "fig, ax = plt.subplots(figsize=(8,5))\n",
    "ax.scatter(x, y,alpha=0.2)\n",
    "# set plot configurations\n",
    "ax.set_xlim([0, max(x)])\n",
    "ax.set_xlabel('Square Feet', fontsize=12)\n",
    "ax.set_ylabel('Price', fontsize=12)\n",
    "ax.set_title('Square feet by Price', fontsize=14)\n",
    "# set plot layout\n",
    "ax.grid(True)\n",
    "fig.tight_layout()\n",
    "plt.show()"
   ]
  },
  {
   "cell_type": "markdown",
   "metadata": {},
   "source": [
    "The scatterplot below suggests a strong relationship between Square Feet and Price, with almost all rentals, regardless of price, under 2500 square feet. "
   ]
  },
  {
   "cell_type": "markdown",
   "metadata": {},
   "source": [
    "## Conclusions"
   ]
  },
  {
   "cell_type": "markdown",
   "metadata": {},
   "source": [
    "\n",
    "Overall, issues for further analysis are the differences in affordability between Minneapolis and St. Paul or Hennepin and Ramsey County, the differences in affordability between suburban cities of the two main cities St. Paul and Minneapolis, the clustering of craigslist ads in certain corridors of Minneapolis and at precise address locations, and normality of the distribution of listings labeled as 1 bedroom.\n"
   ]
  }
 ],
 "metadata": {
  "kernelspec": {
   "display_name": "Python 3",
   "language": "python",
   "name": "python3"
  },
  "language_info": {
   "codemirror_mode": {
    "name": "ipython",
    "version": 3
   },
   "file_extension": ".py",
   "mimetype": "text/x-python",
   "name": "python",
   "nbconvert_exporter": "python",
   "pygments_lexer": "ipython3",
   "version": "3.6.5"
  }
 },
 "nbformat": 4,
 "nbformat_minor": 2
}
