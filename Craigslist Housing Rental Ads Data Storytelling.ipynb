{
 "cells": [
  {
   "cell_type": "code",
   "execution_count": 133,
   "metadata": {
    "collapsed": true
   },
   "outputs": [],
   "source": [
    "%matplotlib inline\n",
    "import seaborn as sns\n",
    "import matplotlib.pyplot as plt\n",
    "import numpy as np\n",
    "import pandas as pd\n",
    "import pysal as ps\n",
    "import geopandas as gpd\n",
    "from sklearn import cluster\n",
    "from sklearn.preprocessing import scale\n",
    "from uszipcode import ZipcodeSearchEngine\n",
    "from shapely.geometry import Point\n",
    "import geojson\n",
    "import json\n",
    "import pickle\n",
    "import folium\n",
    "from folium import plugins\n",
    "import bokeh.plotting as bkp\n",
    "from mpl_toolkits.axes_grid1 import make_axes_locatable\n",
    "\n",
    "sns.set(style=\"whitegrid\")"
   ]
  },
  {
   "cell_type": "code",
   "execution_count": 111,
   "metadata": {
    "collapsed": true
   },
   "outputs": [],
   "source": [
    "# read in cleaned rentals data as geodataframe\n",
    "data = pd.read_csv(\"cleaned_data_final.csv\")\n",
    "# convert latitude and longitude points into GIS data points\n",
    "geometry = [Point(xy) for xy in zip(data['geocode_lon'], data['geocode_lat'])]\n",
    "# set projections for geometry \n",
    "crs = {'init': 'epsg:4326'}\n",
    "locations = gpd.GeoDataFrame(data, crs=crs, geometry=geometry)\n",
    "locations = locations.to_crs({'init': 'epsg:4326'})"
   ]
  },
  {
   "cell_type": "code",
   "execution_count": 112,
   "metadata": {
    "collapsed": true
   },
   "outputs": [],
   "source": [
    "# create geodataframe of zipcodes of Minnesota\n",
    "zipcodes = gpd.GeoDataFrame.from_file('zip_code_tabulation_areas.shp')\n",
    "# set projection of zipcodes\n",
    "zipcodes = zipcodes.to_crs({'init': 'epsg:4326'})\n",
    "# rename column of minnesota zipcodes file\n",
    "zipcodes = zipcodes.rename(columns={'GEOID10': 'zipcodes'})\n",
    "# perform spatial join between craigslist \n",
    "loc_zip_join = gpd.sjoin(locations, zipcodes, how=\"left\", op='within')\n",
    "# re-size dataframe to only include necessary columns\n",
    "final_df = loc_zip_join[['address', 'beds boolean', 'beds_baths', 'county', 'county_full', 'datetime', 'geocode_lat', 'geocode_lon', 'post id', 'price', 'price boolean', 'square feet', 'square feet boolean', 'title', 'url', 'County', 'City', 'bed assigned', 'no match', 'index match', 'outlier', 'zipcodes']]"
   ]
  },
  {
   "cell_type": "code",
   "execution_count": 113,
   "metadata": {
    "collapsed": true
   },
   "outputs": [],
   "source": [
    "# create dictionary of the fair market rents of the Twin Cities according to \n",
    "fmr_dict = {\"studio\" : 711, \"1\" : 864, \"2\" : 1089, \"3\" : 1547, \"4\" : 1812}\n",
    "# function to determine how many standard deviations over or under fmr rent is \n",
    "def over_under_fmr(df, col_name, std_dictionary, fmr_dictionary, std_list):\n",
    "    # define crunch_fmr to calculate if price is over threshold for given standard deviation\n",
    "    def crunch_fmr(beds, **kwargs):\n",
    "    # get standard deviation for given beds value, add it to fmr value, multiply it by number of standard deviations\n",
    "        return float(fmr_dictionary.get(beds)) - (float(std_dictionary.get(beds)) * float(standard_deviation))\n",
    "    # loop through list of std 1-3\n",
    "    for standard_deviation in std_list:\n",
    "        # new column for each standard deviation threshold\n",
    "        std_column_name = \"over fmr\" + str(standard_deviation)\n",
    "        df[std_column_name] = 0\n",
    "        # apply crunch_fmr\n",
    "        df.loc[(df[col_name] < df['beds_baths'].apply(crunch_fmr, fmr_dictionary=fmr_dictionary, std_dictionary = std_dictionary, threshold = standard_deviation)), std_column_name] = 1\n",
    "    return df  "
   ]
  },
  {
   "cell_type": "code",
   "execution_count": 132,
   "metadata": {},
   "outputs": [],
   "source": [
    "# pickle filenames\n",
    "filenames = ['sqft_std_dict.pickle', 'sqft_mean_dict.pickle', 'price_mean_dict.pickle', 'price_std_dict.pickle']\n",
    "# function to import pickle files as dictionaries with standard deviations and means for prices and square feet data\n",
    "def pickle_to_dict(filenames):\n",
    "    dictionaries_list = []\n",
    "    for file in filenames:\n",
    "        with open(file, 'rb') as handle:\n",
    "            unserialized_data = pickle.load(handle)\n",
    "            dictionaries_list.append(unserialized_data)\n",
    "    return dictionaries_list\n",
    "# run function to save dictionaries for use in a later script\n",
    "sqft_std_dict, sqft_mean_dict, price_mean_dict, price_std_dict = pickle_to_dict(filenames)\n"
   ]
  },
  {
   "cell_type": "code",
   "execution_count": 115,
   "metadata": {},
   "outputs": [
    {
     "name": "stderr",
     "output_type": "stream",
     "text": [
      "C:\\Anaconda\\lib\\site-packages\\ipykernel_launcher.py:13: SettingWithCopyWarning: \n",
      "A value is trying to be set on a copy of a slice from a DataFrame.\n",
      "Try using .loc[row_indexer,col_indexer] = value instead\n",
      "\n",
      "See the caveats in the documentation: http://pandas.pydata.org/pandas-docs/stable/indexing.html#indexing-view-versus-copy\n",
      "  del sys.path[0]\n",
      "C:\\Anaconda\\lib\\site-packages\\pandas\\core\\indexing.py:537: SettingWithCopyWarning: \n",
      "A value is trying to be set on a copy of a slice from a DataFrame.\n",
      "Try using .loc[row_indexer,col_indexer] = value instead\n",
      "\n",
      "See the caveats in the documentation: http://pandas.pydata.org/pandas-docs/stable/indexing.html#indexing-view-versus-copy\n",
      "  self.obj[item] = s\n"
     ]
    }
   ],
   "source": [
    "# list of values 1, 2, 3 for standard deviations\n",
    "std_list = [1, 2, 3]\n",
    "# run over_fmr function to create dataframe with booleans of rentals 1, 2, 3 standard deviations over fmr\n",
    "df_vals_over_fmr = over_under_fmr(final_df, 'price', price_std_dict, fmr_dict, std_list)"
   ]
  },
  {
   "cell_type": "code",
   "execution_count": 116,
   "metadata": {},
   "outputs": [
    {
     "name": "stderr",
     "output_type": "stream",
     "text": [
      "C:\\Anaconda\\lib\\site-packages\\pandas\\core\\indexing.py:537: SettingWithCopyWarning: \n",
      "A value is trying to be set on a copy of a slice from a DataFrame.\n",
      "Try using .loc[row_indexer,col_indexer] = value instead\n",
      "\n",
      "See the caveats in the documentation: http://pandas.pydata.org/pandas-docs/stable/indexing.html#indexing-view-versus-copy\n",
      "  self.obj[item] = s\n",
      "C:\\Anaconda\\lib\\site-packages\\ipykernel_launcher.py:6: SettingWithCopyWarning: \n",
      "A value is trying to be set on a copy of a slice from a DataFrame.\n",
      "Try using .loc[row_indexer,col_indexer] = value instead\n",
      "\n",
      "See the caveats in the documentation: http://pandas.pydata.org/pandas-docs/stable/indexing.html#indexing-view-versus-copy\n",
      "  \n"
     ]
    }
   ],
   "source": [
    "# copy dataframe as df_vals_over_fmr will be modified\n",
    "final_zipcodes = df_vals_over_fmr\n",
    "#convert studio to one in order to sum number of craigslist units per zip code\n",
    "df_vals_over_fmr.loc[df_vals_over_fmr['beds_baths'] == \"studio\", \"beds_baths\"] = \"1\"\n",
    "# convert beds_baths to float\n",
    "df_vals_over_fmr['beds_baths'] = df_vals_over_fmr['beds_baths'].astype(float)\n",
    "# sum number of beds baths in zipcodes\n",
    "beds_per_zip_craigslist = df_vals_over_fmr.groupby('zipcodes')['beds_baths'].sum()\n",
    "# reset index of dataframe and rename columns\n",
    "beds_per_zip_craigslist = beds_per_zip_craigslist.reset_index()\n",
    "beds_per_zip_craigslist = beds_per_zip_craigslist.rename(columns={'beds_baths': 'craigslist beds per zip'})\n"
   ]
  },
  {
   "cell_type": "code",
   "execution_count": 117,
   "metadata": {
    "collapsed": true
   },
   "outputs": [],
   "source": [
    "# function to perform operations on dataframes \n",
    "# for 1,2,3 standard deviations over fmr\n",
    "def munge_over_fmr(dfs):\n",
    "    dataframes = []\n",
    "    for dataframe in dfs:\n",
    "        # sum the number of units over fmr\n",
    "        over_fmr_sum = dataframe.groupby('zipcodes')['beds_baths'].sum()\n",
    "        # reindex dataframe\n",
    "        over_fmr_craigslist = over_fmr_sum.reset_index()\n",
    "        over_fmr_craigslist = over_fmr_craigslist.rename(columns={'beds_baths': 'craigslist beds per zip over fmr'})\n",
    "        # merge dataframe sums of craigslist per zipcode and sums of overfmr listings per zipcode\n",
    "        merged = pd.concat(objs = [beds_per_zip_craigslist.set_index('zipcodes'), over_fmr_craigslist.set_index('zipcodes')], axis = 1)\n",
    "        # create zipcodes column\n",
    "        merged['zipcodes'] = merged.index\n",
    "        # create columns of new information from US Census from ZipcodeSearchEngine\n",
    "        for index, row in merged.iterrows():\n",
    "            # call zipcode search engine\n",
    "            search = ZipcodeSearchEngine()\n",
    "            # input each zipcode from dataframe into search engine\n",
    "            zipcode=search.by_zipcode(row['zipcodes'])\n",
    "            # get total number of units per zipcode according to census\n",
    "            units_tot = zipcode.HouseOfUnits\n",
    "            # get wealth rating of zipcode\n",
    "            wealth = zipcode.Wealthy\n",
    "            # create columns of total units and wealth in dataframe\n",
    "            merged.loc[index, 'total units'] = units_tot\n",
    "            merged.loc[index, 'wealth'] = wealth\n",
    "        # reindex dataframe\n",
    "        index_list = list(range(len(merged.index)))\n",
    "        # make index series a column in dataframe\n",
    "        merged['index'] = index_list\n",
    "        # set index column as index of dataframe\n",
    "        merged = merged.set_index(['index'])\n",
    "        # fill na\n",
    "        merged = merged.fillna(0)\n",
    "        # coerce columns\n",
    "        merged['total units'] = pd.to_numeric(merged['total units'], errors = \"coerce\")\n",
    "        merged['craigslist beds per zip'] = pd.to_numeric(merged['craigslist beds per zip'], errors = \"coerce\")\n",
    "        merged['craigslist beds per zip over fmr'] = pd.to_numeric(merged['craigslist beds per zip over fmr'], errors = \"coerce\")\n",
    "        merged['wealth'] = pd.to_numeric(merged['wealth'].astype(float), errors = \"coerce\")\n",
    "        # calculate percent of craigslist listings per total units in zipcode\n",
    "        merged['craigslist pct per total units'] = 0\n",
    "        # cast column as float\n",
    "        merged['craigslist pct per total units'] = merged['craigslist pct per total units'].astype(float)\n",
    "        # calculate column craigslist pct per total units which tries to estimate how many units per zipcode\n",
    "        # are available on craigslist\n",
    "        merged['craigslist pct per total units'] = merged['craigslist beds per zip'].div(merged['total units'])\n",
    "        # percent of craigslist listings x standard deviations over fmr \n",
    "        merged['craigslist pct over fmr'] = 0 \n",
    "        # cast as float\n",
    "        merged['craigslist pct over fmr'] = merged['craigslist pct over fmr'].astype(float)\n",
    "        # percent of craigslist listings per craigslist total in zip code\n",
    "        merged['craigslist pct over fmr'] = merged['craigslist beds per zip over fmr'].div(merged['craigslist beds per zip'])\n",
    "        # attempt to calculate measure of wealth and unaffordability\n",
    "        merged['normalized measure of over fmr'] = merged['craigslist pct over fmr'] * merged['craigslist pct per total units']\n",
    "        # calculate percent of craigslist data per zipcode\n",
    "        merged['pct of listings by craigslist population'] = merged['craigslist beds per zip'].div(19240)\n",
    "        # calculate the mean weatlh number\n",
    "        wealth_avg = np.mean(merged['wealth'])\n",
    "        # create boolean of above and below average wealth \n",
    "        merged['above avg'] = False\n",
    "        merged.loc[merged['wealth'] > wealth_avg, 'above avg'] = True\n",
    "        dataframes.append(merged)\n",
    "    return dataframes"
   ]
  },
  {
   "cell_type": "code",
   "execution_count": 118,
   "metadata": {
    "collapsed": true
   },
   "outputs": [],
   "source": [
    "# sum of over fmr units per zipcode house of units\n",
    "over_fmr_1 = df_vals_over_fmr.loc[df_vals_over_fmr['over fmr1'] == 1]\n",
    "over_fmr_2 = df_vals_over_fmr.loc[df_vals_over_fmr['over fmr2'] == 1]\n",
    "over_fmr_3 = df_vals_over_fmr.loc[df_vals_over_fmr['over fmr3'] == 1]\n",
    "# create list of dataframes with over fmr rows\n",
    "dfs = [over_fmr_1, over_fmr_2, over_fmr_3]\n",
    "# munge dataframes \n",
    "munged1, munged2, munged3 = munge_over_fmr(dfs)"
   ]
  },
  {
   "cell_type": "code",
   "execution_count": 120,
   "metadata": {
    "collapsed": true
   },
   "outputs": [],
   "source": [
    "zipcodes = gpd.GeoDataFrame.from_file('zip_code_tabulation_areas.shp')\n",
    "# set projection of zipcodes\n",
    "zipcodes = zipcodes.to_crs({'init': 'epsg:4326'})\n",
    "# rename column of minnesota zipcodes file\n",
    "zipcodes = zipcodes.rename(columns={'GEOID10': 'zipcodes'})"
   ]
  },
  {
   "cell_type": "code",
   "execution_count": 121,
   "metadata": {
    "collapsed": true
   },
   "outputs": [],
   "source": [
    "# subset minnesota zipcodes\n",
    "# so as to match those containing craigslist rental ads\n",
    "# in ramsey and hennepin county\n",
    "# merge zipcodes spatial data with munged dataframe\n",
    "choropleth_input = zipcodes.merge(munged1, on='zipcodes')\n",
    "# create json\n",
    "choropleth_json = choropleth_input.to_json()\n",
    "datastore = json.loads(choropleth_json)\n"
   ]
  },
  {
   "cell_type": "code",
   "execution_count": 125,
   "metadata": {},
   "outputs": [],
   "source": [
    "# define function to map each over fmr dataframe\n",
    "def map_fmrs(json, dataframes):\n",
    "    count = 1\n",
    "    column = \"over_fmr\"\n",
    "    for dataframe in dataframes:\n",
    "        # create map object\n",
    "        fmr_map = folium.Map(location=[44.986656, -93.258133], zoom_start=12)\n",
    "        # create choropleth map\n",
    "        fmr_map.choropleth(geo_data = json, data = dataframe,\n",
    "                 columns=['zipcodes', 'craigslist pct over fmr'],\n",
    "                 key_on='feature.properties.zipcodes',\n",
    "                 legend_name = 'Percent of Craigslist Listings ' + str(count) + ' Standard Deviation Under FMR By Zipcode', fill_opacity=.8, line_opacity=.9,\n",
    "                 fill_color='YlGn')\n",
    "        # save maps\n",
    "        fmr_map.save('underfmr' + str(count) + '.html')\n",
    "        count += 1"
   ]
  },
  {
   "cell_type": "code",
   "execution_count": 126,
   "metadata": {},
   "outputs": [],
   "source": [
    "# list of munged datasets to input into function\n",
    "munged_dataframes = [munged1, munged2, munged3]\n",
    "map_fmrs(datastore, munged_dataframes)"
   ]
  },
  {
   "cell_type": "code",
   "execution_count": 131,
   "metadata": {},
   "outputs": [],
   "source": [
    "# create map\n",
    "m = folium.Map(location=[44.986656, -93.258133], zoom_start=12)\n",
    "# convert to (n, 2) nd-array format for heatmap\n",
    "heat_points = final_df[['geocode_lat', 'geocode_lon']].as_matrix()\n",
    "# convert heatpoints to list\n",
    "heat_points = heat_points.tolist()\n",
    "# plot heatmap\n",
    "m.add_child(plugins.HeatMap(heat_points, radius=10))\n",
    "m.save('craigslist_listings.html')"
   ]
  },
  {
   "cell_type": "code",
   "execution_count": null,
   "metadata": {
    "collapsed": true
   },
   "outputs": [],
   "source": [
    "# function to \n",
    "def quartiles_heatmap(quartiles):\n",
    "    count = 1\n",
    "    for q in quartiles:\n",
    "        # create map\n",
    "        m = folium.Map(location=[44.986656, -93.258133], zoom_start=12)\n",
    "        # convert to (n, 2) nd-array format for heatmap\n",
    "        heat_points = q[['geocode_lat', 'geocode_lon']].as_matrix()\n",
    "        # convert heatpoints to list\n",
    "        heat_points = heat_points.tolist()\n",
    "        # plot heatmap\n",
    "        m.add_child(plugins.HeatMap(heat_points, radius=10))\n",
    "        m.save('q' + str(count) + '.html')\n",
    "        count += 1"
   ]
  },
  {
   "cell_type": "code",
   "execution_count": null,
   "metadata": {},
   "outputs": [],
   "source": [
    "# create quartiles of price data\n",
    "twentyfifth, fiftieth, seventyfifth, hundred = np.percentile(df_vals_over_fmr['price'], [25, 50, 75, 100])\n",
    "# create subsets of each quartile\n",
    "q1 = df_vals_over_fmr.loc[(df_vals_over_fmr['price'] <= twentyfifth)]\n",
    "q2 = df_vals_over_fmr.loc[(df_vals_over_fmr['price'] > twentyfifth) & (df_vals_over_fmr['price'] <= fiftieth)]\n",
    "q3 = df_vals_over_fmr.loc[(df_vals_over_fmr['price'] > fiftieth) & (df_vals_over_fmr['price'] <= seventyfifth)]\n",
    "q4 = df_vals_over_fmr.loc[(df_vals_over_fmr['price'] > seventyfifth) & (df_vals_over_fmr['price'] <= hundred)]\n",
    "# set quartiles list\n",
    "quartiles = [q1, q2, q3, q4]\n",
    "# call create_heatmap\n",
    "quartiles_heatmap(quartiles)"
   ]
  },
  {
   "cell_type": "code",
   "execution_count": 134,
   "metadata": {},
   "outputs": [
    {
     "data": {
      "image/png": "[encoded data removed]",
      "text/plain": [
       "<matplotlib.figure.Figure at 0x1f06b27d2b0>"
      ]
     },
     "metadata": {},
     "output_type": "display_data"
    }
   ],
   "source": [
    "# generate a scatterplot for price vs square feet \n",
    "# and create lists as inputs\n",
    "x = [a for a in data['square feet']]\n",
    "y = list(data['price'])\n",
    "# generate plot object\n",
    "fig, ax = plt.subplots(figsize=(8,5))\n",
    "ax.scatter(x, y,alpha=0.2)\n",
    "# set plot configurations\n",
    "ax.set_xlim([0, max(x)])\n",
    "ax.set_xlabel('Square Feet', fontsize=12)\n",
    "ax.set_ylabel('Price', fontsize=12)\n",
    "ax.set_title('Square feet by Price', fontsize=14)\n",
    "# set plot layout\n",
    "ax.grid(True)\n",
    "fig.tight_layout()\n",
    "plt.show()"
   ]
  }
 ],
 "metadata": {
  "kernelspec": {
   "display_name": "Python 3",
   "language": "python",
   "name": "python3"
  },
  "language_info": {
   "codemirror_mode": {
    "name": "ipython",
    "version": 3
   },
   "file_extension": ".py",
   "mimetype": "text/x-python",
   "name": "python",
   "nbconvert_exporter": "python",
   "pygments_lexer": "ipython3",
   "version": "3.6.3"
  }
 },
 "nbformat": 4,
 "nbformat_minor": 2
}
